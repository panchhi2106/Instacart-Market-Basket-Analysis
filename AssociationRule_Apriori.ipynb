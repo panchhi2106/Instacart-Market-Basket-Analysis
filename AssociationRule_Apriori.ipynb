{
 "cells": [
  {
   "cell_type": "code",
   "execution_count": 1,
   "metadata": {
    "id": "U4sgS4s8EEyE"
   },
   "outputs": [],
   "source": [
    "from pathlib import Path\n",
    "import pandas as pd\n",
    "import numpy as np\n",
    "from apyori import apriori"
   ]
  },
  {
   "cell_type": "code",
   "execution_count": 2,
   "metadata": {
    "colab": {
     "base_uri": "https://localhost:8080/",
     "height": 392
    },
    "id": "UV_6RGtwEMhr",
    "outputId": "828535e4-c471-42ca-bd0c-9b45e9057899"
   },
   "outputs": [],
   "source": [
    "# Loading the data \n",
    "\n",
    "# Loading Aisles data into Aisles\n",
    "aisles = pd.read_csv('aisles.csv')\n",
    "\n",
    "# Loading Departments data into Departments\n",
    "departments = pd.read_csv('departments.csv')\n",
    "\n",
    "# Loading Training order data into orderProductsTrain\n",
    "orderProductsTrain = pd.read_csv('order_products__train.csv')\n",
    "\n",
    "# Loading the Orders into Orders\n",
    "orders = pd.read_csv('orders.csv')\n",
    "\n",
    "# Loading Products data into Products\n",
    "products = pd.read_csv('products.csv')\n",
    "\n",
    "# Loading Prior order data into orderProductsPrior\n",
    "orderProductsPrior = pd.read_csv('order_products__prior.csv')"
   ]
  },
  {
   "cell_type": "code",
   "execution_count": 3,
   "metadata": {
    "colab": {
     "base_uri": "https://localhost:8080/"
    },
    "id": "IwRAA70yEOHj",
    "outputId": "6de7e95c-2df3-4395-f2e9-c1c1710c1f9d"
   },
   "outputs": [
    {
     "data": {
      "text/plain": [
       "order_id                       0\n",
       "user_id                        0\n",
       "eval_set                       0\n",
       "order_number                   0\n",
       "order_dow                      0\n",
       "order_hour_of_day              0\n",
       "days_since_prior_order    206209\n",
       "dtype: int64"
      ]
     },
     "execution_count": 3,
     "metadata": {},
     "output_type": "execute_result"
    }
   ],
   "source": [
    "# checking if dfs have nulls one by one\n",
    "aisles.isnull().sum()\n",
    "departments.isnull().sum()\n",
    "products.isnull().sum()\n",
    "orderProductsPrior.isnull().sum()\n",
    "orderProductsTrain\n",
    "orders.isnull().sum() # orders dataset has some nulls. We will drop them."
   ]
  },
  {
   "cell_type": "code",
   "execution_count": 4,
   "metadata": {
    "id": "E8trCafNEQqE"
   },
   "outputs": [],
   "source": [
    "orders.dropna(inplace=True)"
   ]
  },
  {
   "cell_type": "code",
   "execution_count": 5,
   "metadata": {
    "colab": {
     "base_uri": "https://localhost:8080/",
     "height": 204
    },
    "id": "azUbp46aERfn",
    "outputId": "c7cefb8b-27fe-4d27-ac2f-e83c045fe531"
   },
   "outputs": [
    {
     "data": {
      "text/html": [
       "<div>\n",
       "<style scoped>\n",
       "    .dataframe tbody tr th:only-of-type {\n",
       "        vertical-align: middle;\n",
       "    }\n",
       "\n",
       "    .dataframe tbody tr th {\n",
       "        vertical-align: top;\n",
       "    }\n",
       "\n",
       "    .dataframe thead th {\n",
       "        text-align: right;\n",
       "    }\n",
       "</style>\n",
       "<table border=\"1\" class=\"dataframe\">\n",
       "  <thead>\n",
       "    <tr style=\"text-align: right;\">\n",
       "      <th></th>\n",
       "      <th>order_id</th>\n",
       "      <th>user_id</th>\n",
       "      <th>eval_set</th>\n",
       "      <th>order_number</th>\n",
       "      <th>order_dow</th>\n",
       "      <th>order_hour_of_day</th>\n",
       "      <th>days_since_prior_order</th>\n",
       "    </tr>\n",
       "  </thead>\n",
       "  <tbody>\n",
       "    <tr>\n",
       "      <th>1</th>\n",
       "      <td>2398795</td>\n",
       "      <td>1</td>\n",
       "      <td>prior</td>\n",
       "      <td>2</td>\n",
       "      <td>3</td>\n",
       "      <td>7</td>\n",
       "      <td>15.0</td>\n",
       "    </tr>\n",
       "    <tr>\n",
       "      <th>2</th>\n",
       "      <td>473747</td>\n",
       "      <td>1</td>\n",
       "      <td>prior</td>\n",
       "      <td>3</td>\n",
       "      <td>3</td>\n",
       "      <td>12</td>\n",
       "      <td>21.0</td>\n",
       "    </tr>\n",
       "    <tr>\n",
       "      <th>3</th>\n",
       "      <td>2254736</td>\n",
       "      <td>1</td>\n",
       "      <td>prior</td>\n",
       "      <td>4</td>\n",
       "      <td>4</td>\n",
       "      <td>7</td>\n",
       "      <td>29.0</td>\n",
       "    </tr>\n",
       "    <tr>\n",
       "      <th>4</th>\n",
       "      <td>431534</td>\n",
       "      <td>1</td>\n",
       "      <td>prior</td>\n",
       "      <td>5</td>\n",
       "      <td>4</td>\n",
       "      <td>15</td>\n",
       "      <td>28.0</td>\n",
       "    </tr>\n",
       "    <tr>\n",
       "      <th>5</th>\n",
       "      <td>3367565</td>\n",
       "      <td>1</td>\n",
       "      <td>prior</td>\n",
       "      <td>6</td>\n",
       "      <td>2</td>\n",
       "      <td>7</td>\n",
       "      <td>19.0</td>\n",
       "    </tr>\n",
       "  </tbody>\n",
       "</table>\n",
       "</div>"
      ],
      "text/plain": [
       "   order_id  user_id eval_set  order_number  order_dow  order_hour_of_day  \\\n",
       "1   2398795        1    prior             2          3                  7   \n",
       "2    473747        1    prior             3          3                 12   \n",
       "3   2254736        1    prior             4          4                  7   \n",
       "4    431534        1    prior             5          4                 15   \n",
       "5   3367565        1    prior             6          2                  7   \n",
       "\n",
       "   days_since_prior_order  \n",
       "1                    15.0  \n",
       "2                    21.0  \n",
       "3                    29.0  \n",
       "4                    28.0  \n",
       "5                    19.0  "
      ]
     },
     "execution_count": 5,
     "metadata": {},
     "output_type": "execute_result"
    }
   ],
   "source": [
    "orders.head()"
   ]
  },
  {
   "cell_type": "code",
   "execution_count": 6,
   "metadata": {
    "colab": {
     "base_uri": "https://localhost:8080/",
     "height": 204
    },
    "id": "PvIrd88hTJAi",
    "outputId": "e9b48df3-b4b4-4471-ea34-1106ee9bf091"
   },
   "outputs": [
    {
     "data": {
      "text/html": [
       "<div>\n",
       "<style scoped>\n",
       "    .dataframe tbody tr th:only-of-type {\n",
       "        vertical-align: middle;\n",
       "    }\n",
       "\n",
       "    .dataframe tbody tr th {\n",
       "        vertical-align: top;\n",
       "    }\n",
       "\n",
       "    .dataframe thead th {\n",
       "        text-align: right;\n",
       "    }\n",
       "</style>\n",
       "<table border=\"1\" class=\"dataframe\">\n",
       "  <thead>\n",
       "    <tr style=\"text-align: right;\">\n",
       "      <th></th>\n",
       "      <th>product_id</th>\n",
       "      <th>product_name</th>\n",
       "      <th>aisle_id</th>\n",
       "      <th>department_id</th>\n",
       "    </tr>\n",
       "  </thead>\n",
       "  <tbody>\n",
       "    <tr>\n",
       "      <th>0</th>\n",
       "      <td>1</td>\n",
       "      <td>Chocolate Sandwich Cookies</td>\n",
       "      <td>61</td>\n",
       "      <td>19</td>\n",
       "    </tr>\n",
       "    <tr>\n",
       "      <th>1</th>\n",
       "      <td>2</td>\n",
       "      <td>All-Seasons Salt</td>\n",
       "      <td>104</td>\n",
       "      <td>13</td>\n",
       "    </tr>\n",
       "    <tr>\n",
       "      <th>2</th>\n",
       "      <td>3</td>\n",
       "      <td>Robust Golden Unsweetened Oolong Tea</td>\n",
       "      <td>94</td>\n",
       "      <td>7</td>\n",
       "    </tr>\n",
       "    <tr>\n",
       "      <th>3</th>\n",
       "      <td>4</td>\n",
       "      <td>Smart Ones Classic Favorites Mini Rigatoni Wit...</td>\n",
       "      <td>38</td>\n",
       "      <td>1</td>\n",
       "    </tr>\n",
       "    <tr>\n",
       "      <th>4</th>\n",
       "      <td>5</td>\n",
       "      <td>Green Chile Anytime Sauce</td>\n",
       "      <td>5</td>\n",
       "      <td>13</td>\n",
       "    </tr>\n",
       "  </tbody>\n",
       "</table>\n",
       "</div>"
      ],
      "text/plain": [
       "   product_id                                       product_name  aisle_id  \\\n",
       "0           1                         Chocolate Sandwich Cookies        61   \n",
       "1           2                                   All-Seasons Salt       104   \n",
       "2           3               Robust Golden Unsweetened Oolong Tea        94   \n",
       "3           4  Smart Ones Classic Favorites Mini Rigatoni Wit...        38   \n",
       "4           5                          Green Chile Anytime Sauce         5   \n",
       "\n",
       "   department_id  \n",
       "0             19  \n",
       "1             13  \n",
       "2              7  \n",
       "3              1  \n",
       "4             13  "
      ]
     },
     "execution_count": 6,
     "metadata": {},
     "output_type": "execute_result"
    }
   ],
   "source": [
    "products.head()"
   ]
  },
  {
   "cell_type": "code",
   "execution_count": 7,
   "metadata": {
    "colab": {
     "base_uri": "https://localhost:8080/",
     "height": 204
    },
    "id": "KIdaVzr9TUCt",
    "outputId": "74992534-c39c-4155-e538-b4f160ea7720"
   },
   "outputs": [
    {
     "data": {
      "text/html": [
       "<div>\n",
       "<style scoped>\n",
       "    .dataframe tbody tr th:only-of-type {\n",
       "        vertical-align: middle;\n",
       "    }\n",
       "\n",
       "    .dataframe tbody tr th {\n",
       "        vertical-align: top;\n",
       "    }\n",
       "\n",
       "    .dataframe thead th {\n",
       "        text-align: right;\n",
       "    }\n",
       "</style>\n",
       "<table border=\"1\" class=\"dataframe\">\n",
       "  <thead>\n",
       "    <tr style=\"text-align: right;\">\n",
       "      <th></th>\n",
       "      <th>order_id</th>\n",
       "      <th>product_id</th>\n",
       "      <th>add_to_cart_order</th>\n",
       "      <th>reordered</th>\n",
       "    </tr>\n",
       "  </thead>\n",
       "  <tbody>\n",
       "    <tr>\n",
       "      <th>0</th>\n",
       "      <td>1</td>\n",
       "      <td>49302</td>\n",
       "      <td>1</td>\n",
       "      <td>1</td>\n",
       "    </tr>\n",
       "    <tr>\n",
       "      <th>1</th>\n",
       "      <td>1</td>\n",
       "      <td>11109</td>\n",
       "      <td>2</td>\n",
       "      <td>1</td>\n",
       "    </tr>\n",
       "    <tr>\n",
       "      <th>2</th>\n",
       "      <td>1</td>\n",
       "      <td>10246</td>\n",
       "      <td>3</td>\n",
       "      <td>0</td>\n",
       "    </tr>\n",
       "    <tr>\n",
       "      <th>3</th>\n",
       "      <td>1</td>\n",
       "      <td>49683</td>\n",
       "      <td>4</td>\n",
       "      <td>0</td>\n",
       "    </tr>\n",
       "    <tr>\n",
       "      <th>4</th>\n",
       "      <td>1</td>\n",
       "      <td>43633</td>\n",
       "      <td>5</td>\n",
       "      <td>1</td>\n",
       "    </tr>\n",
       "  </tbody>\n",
       "</table>\n",
       "</div>"
      ],
      "text/plain": [
       "   order_id  product_id  add_to_cart_order  reordered\n",
       "0         1       49302                  1          1\n",
       "1         1       11109                  2          1\n",
       "2         1       10246                  3          0\n",
       "3         1       49683                  4          0\n",
       "4         1       43633                  5          1"
      ]
     },
     "execution_count": 7,
     "metadata": {},
     "output_type": "execute_result"
    }
   ],
   "source": [
    "orderProductsTrain.head()"
   ]
  },
  {
   "cell_type": "code",
   "execution_count": 8,
   "metadata": {
    "colab": {
     "base_uri": "https://localhost:8080/",
     "height": 204
    },
    "id": "aZCNZpBKTXuY",
    "outputId": "7da6bf7a-6e12-48d3-8f3f-329f776d5bbf"
   },
   "outputs": [
    {
     "data": {
      "text/html": [
       "<div>\n",
       "<style scoped>\n",
       "    .dataframe tbody tr th:only-of-type {\n",
       "        vertical-align: middle;\n",
       "    }\n",
       "\n",
       "    .dataframe tbody tr th {\n",
       "        vertical-align: top;\n",
       "    }\n",
       "\n",
       "    .dataframe thead th {\n",
       "        text-align: right;\n",
       "    }\n",
       "</style>\n",
       "<table border=\"1\" class=\"dataframe\">\n",
       "  <thead>\n",
       "    <tr style=\"text-align: right;\">\n",
       "      <th></th>\n",
       "      <th>order_id</th>\n",
       "      <th>product_id</th>\n",
       "      <th>add_to_cart_order</th>\n",
       "      <th>reordered</th>\n",
       "    </tr>\n",
       "  </thead>\n",
       "  <tbody>\n",
       "    <tr>\n",
       "      <th>0</th>\n",
       "      <td>2</td>\n",
       "      <td>33120</td>\n",
       "      <td>1</td>\n",
       "      <td>1</td>\n",
       "    </tr>\n",
       "    <tr>\n",
       "      <th>1</th>\n",
       "      <td>2</td>\n",
       "      <td>28985</td>\n",
       "      <td>2</td>\n",
       "      <td>1</td>\n",
       "    </tr>\n",
       "    <tr>\n",
       "      <th>2</th>\n",
       "      <td>2</td>\n",
       "      <td>9327</td>\n",
       "      <td>3</td>\n",
       "      <td>0</td>\n",
       "    </tr>\n",
       "    <tr>\n",
       "      <th>3</th>\n",
       "      <td>2</td>\n",
       "      <td>45918</td>\n",
       "      <td>4</td>\n",
       "      <td>1</td>\n",
       "    </tr>\n",
       "    <tr>\n",
       "      <th>4</th>\n",
       "      <td>2</td>\n",
       "      <td>30035</td>\n",
       "      <td>5</td>\n",
       "      <td>0</td>\n",
       "    </tr>\n",
       "  </tbody>\n",
       "</table>\n",
       "</div>"
      ],
      "text/plain": [
       "   order_id  product_id  add_to_cart_order  reordered\n",
       "0         2       33120                  1          1\n",
       "1         2       28985                  2          1\n",
       "2         2        9327                  3          0\n",
       "3         2       45918                  4          1\n",
       "4         2       30035                  5          0"
      ]
     },
     "execution_count": 8,
     "metadata": {},
     "output_type": "execute_result"
    }
   ],
   "source": [
    "orderProductsPrior.head()"
   ]
  },
  {
   "cell_type": "code",
   "execution_count": 9,
   "metadata": {
    "colab": {
     "base_uri": "https://localhost:8080/",
     "height": 204
    },
    "id": "X_JSsBlFTff4",
    "outputId": "3ceb04fe-dac1-418d-bdc4-1bc64157e75d"
   },
   "outputs": [
    {
     "data": {
      "text/html": [
       "<div>\n",
       "<style scoped>\n",
       "    .dataframe tbody tr th:only-of-type {\n",
       "        vertical-align: middle;\n",
       "    }\n",
       "\n",
       "    .dataframe tbody tr th {\n",
       "        vertical-align: top;\n",
       "    }\n",
       "\n",
       "    .dataframe thead th {\n",
       "        text-align: right;\n",
       "    }\n",
       "</style>\n",
       "<table border=\"1\" class=\"dataframe\">\n",
       "  <thead>\n",
       "    <tr style=\"text-align: right;\">\n",
       "      <th></th>\n",
       "      <th>department_id</th>\n",
       "      <th>department</th>\n",
       "    </tr>\n",
       "  </thead>\n",
       "  <tbody>\n",
       "    <tr>\n",
       "      <th>0</th>\n",
       "      <td>1</td>\n",
       "      <td>frozen</td>\n",
       "    </tr>\n",
       "    <tr>\n",
       "      <th>1</th>\n",
       "      <td>2</td>\n",
       "      <td>other</td>\n",
       "    </tr>\n",
       "    <tr>\n",
       "      <th>2</th>\n",
       "      <td>3</td>\n",
       "      <td>bakery</td>\n",
       "    </tr>\n",
       "    <tr>\n",
       "      <th>3</th>\n",
       "      <td>4</td>\n",
       "      <td>produce</td>\n",
       "    </tr>\n",
       "    <tr>\n",
       "      <th>4</th>\n",
       "      <td>5</td>\n",
       "      <td>alcohol</td>\n",
       "    </tr>\n",
       "  </tbody>\n",
       "</table>\n",
       "</div>"
      ],
      "text/plain": [
       "   department_id department\n",
       "0              1     frozen\n",
       "1              2      other\n",
       "2              3     bakery\n",
       "3              4    produce\n",
       "4              5    alcohol"
      ]
     },
     "execution_count": 9,
     "metadata": {},
     "output_type": "execute_result"
    }
   ],
   "source": [
    "departments.head()"
   ]
  },
  {
   "cell_type": "code",
   "execution_count": 10,
   "metadata": {
    "colab": {
     "base_uri": "https://localhost:8080/",
     "height": 204
    },
    "id": "aybGhJbwTiEt",
    "outputId": "de9fe233-5431-4171-e597-de76c8c5581d"
   },
   "outputs": [
    {
     "data": {
      "text/html": [
       "<div>\n",
       "<style scoped>\n",
       "    .dataframe tbody tr th:only-of-type {\n",
       "        vertical-align: middle;\n",
       "    }\n",
       "\n",
       "    .dataframe tbody tr th {\n",
       "        vertical-align: top;\n",
       "    }\n",
       "\n",
       "    .dataframe thead th {\n",
       "        text-align: right;\n",
       "    }\n",
       "</style>\n",
       "<table border=\"1\" class=\"dataframe\">\n",
       "  <thead>\n",
       "    <tr style=\"text-align: right;\">\n",
       "      <th></th>\n",
       "      <th>aisle_id</th>\n",
       "      <th>aisle</th>\n",
       "    </tr>\n",
       "  </thead>\n",
       "  <tbody>\n",
       "    <tr>\n",
       "      <th>0</th>\n",
       "      <td>1</td>\n",
       "      <td>prepared soups salads</td>\n",
       "    </tr>\n",
       "    <tr>\n",
       "      <th>1</th>\n",
       "      <td>2</td>\n",
       "      <td>specialty cheeses</td>\n",
       "    </tr>\n",
       "    <tr>\n",
       "      <th>2</th>\n",
       "      <td>3</td>\n",
       "      <td>energy granola bars</td>\n",
       "    </tr>\n",
       "    <tr>\n",
       "      <th>3</th>\n",
       "      <td>4</td>\n",
       "      <td>instant foods</td>\n",
       "    </tr>\n",
       "    <tr>\n",
       "      <th>4</th>\n",
       "      <td>5</td>\n",
       "      <td>marinades meat preparation</td>\n",
       "    </tr>\n",
       "  </tbody>\n",
       "</table>\n",
       "</div>"
      ],
      "text/plain": [
       "   aisle_id                       aisle\n",
       "0         1       prepared soups salads\n",
       "1         2           specialty cheeses\n",
       "2         3         energy granola bars\n",
       "3         4               instant foods\n",
       "4         5  marinades meat preparation"
      ]
     },
     "execution_count": 10,
     "metadata": {},
     "output_type": "execute_result"
    }
   ],
   "source": [
    "aisles.head()"
   ]
  },
  {
   "cell_type": "code",
   "execution_count": 11,
   "metadata": {
    "id": "eIYXNYVKIZWd",
    "outputId": "74d5b052-ba86-4e2e-d4db-28bba91c42f4"
   },
   "outputs": [
    {
     "data": {
      "text/html": [
       "<div>\n",
       "<style scoped>\n",
       "    .dataframe tbody tr th:only-of-type {\n",
       "        vertical-align: middle;\n",
       "    }\n",
       "\n",
       "    .dataframe tbody tr th {\n",
       "        vertical-align: top;\n",
       "    }\n",
       "\n",
       "    .dataframe thead th {\n",
       "        text-align: right;\n",
       "    }\n",
       "</style>\n",
       "<table border=\"1\" class=\"dataframe\">\n",
       "  <thead>\n",
       "    <tr style=\"text-align: right;\">\n",
       "      <th></th>\n",
       "      <th>order_id</th>\n",
       "      <th>product_id</th>\n",
       "      <th>add_to_cart_order</th>\n",
       "      <th>reordered</th>\n",
       "      <th>product_name</th>\n",
       "      <th>aisle_id</th>\n",
       "      <th>department_id</th>\n",
       "      <th>department</th>\n",
       "      <th>aisle</th>\n",
       "    </tr>\n",
       "  </thead>\n",
       "  <tbody>\n",
       "    <tr>\n",
       "      <th>0</th>\n",
       "      <td>2</td>\n",
       "      <td>33120</td>\n",
       "      <td>1</td>\n",
       "      <td>1</td>\n",
       "      <td>Organic Egg Whites</td>\n",
       "      <td>86</td>\n",
       "      <td>16</td>\n",
       "      <td>dairy eggs</td>\n",
       "      <td>eggs</td>\n",
       "    </tr>\n",
       "    <tr>\n",
       "      <th>1</th>\n",
       "      <td>2</td>\n",
       "      <td>28985</td>\n",
       "      <td>2</td>\n",
       "      <td>1</td>\n",
       "      <td>Michigan Organic Kale</td>\n",
       "      <td>83</td>\n",
       "      <td>4</td>\n",
       "      <td>produce</td>\n",
       "      <td>fresh vegetables</td>\n",
       "    </tr>\n",
       "    <tr>\n",
       "      <th>2</th>\n",
       "      <td>2</td>\n",
       "      <td>9327</td>\n",
       "      <td>3</td>\n",
       "      <td>0</td>\n",
       "      <td>Garlic Powder</td>\n",
       "      <td>104</td>\n",
       "      <td>13</td>\n",
       "      <td>pantry</td>\n",
       "      <td>spices seasonings</td>\n",
       "    </tr>\n",
       "    <tr>\n",
       "      <th>3</th>\n",
       "      <td>2</td>\n",
       "      <td>45918</td>\n",
       "      <td>4</td>\n",
       "      <td>1</td>\n",
       "      <td>Coconut Butter</td>\n",
       "      <td>19</td>\n",
       "      <td>13</td>\n",
       "      <td>pantry</td>\n",
       "      <td>oils vinegars</td>\n",
       "    </tr>\n",
       "    <tr>\n",
       "      <th>4</th>\n",
       "      <td>2</td>\n",
       "      <td>30035</td>\n",
       "      <td>5</td>\n",
       "      <td>0</td>\n",
       "      <td>Natural Sweetener</td>\n",
       "      <td>17</td>\n",
       "      <td>13</td>\n",
       "      <td>pantry</td>\n",
       "      <td>baking ingredients</td>\n",
       "    </tr>\n",
       "  </tbody>\n",
       "</table>\n",
       "</div>"
      ],
      "text/plain": [
       "   order_id  product_id  add_to_cart_order  reordered           product_name  \\\n",
       "0         2       33120                  1          1     Organic Egg Whites   \n",
       "1         2       28985                  2          1  Michigan Organic Kale   \n",
       "2         2        9327                  3          0          Garlic Powder   \n",
       "3         2       45918                  4          1         Coconut Butter   \n",
       "4         2       30035                  5          0      Natural Sweetener   \n",
       "\n",
       "   aisle_id  department_id  department               aisle  \n",
       "0        86             16  dairy eggs                eggs  \n",
       "1        83              4     produce    fresh vegetables  \n",
       "2       104             13      pantry   spices seasonings  \n",
       "3        19             13      pantry       oils vinegars  \n",
       "4        17             13      pantry  baking ingredients  "
      ]
     },
     "execution_count": 11,
     "metadata": {},
     "output_type": "execute_result"
    }
   ],
   "source": [
    "# Merging tables together.\n",
    "products_departments = products.merge(departments, left_on='department_id', right_on='department_id', how='left')\n",
    "products_departments_aisles = products_departments.merge(aisles, left_on='aisle_id', right_on='aisle_id', how='left')\n",
    "\n",
    "products_departments_aisles.groupby('department')['product_id'].count().reset_index().sort_values(by='product_id', ascending=False).head(10)\n",
    "\n",
    "\n",
    "# Merging products_departments_aisles and order_products_total.\n",
    "order_products_total = pd.concat([orderProductsPrior, orderProductsTrain]) \n",
    "df = order_products_total.merge(products_departments_aisles, left_on='product_id', right_on='product_id', how='left')\n",
    "df.head()"
   ]
  },
  {
   "cell_type": "markdown",
   "metadata": {
    "id": "pp2Mh7SrIZWi"
   },
   "source": [
    "## Association Rule Mining"
   ]
  },
  {
   "cell_type": "code",
   "execution_count": 35,
   "metadata": {},
   "outputs": [
    {
     "data": {
      "text/html": [
       "<div>\n",
       "<style scoped>\n",
       "    .dataframe tbody tr th:only-of-type {\n",
       "        vertical-align: middle;\n",
       "    }\n",
       "\n",
       "    .dataframe tbody tr th {\n",
       "        vertical-align: top;\n",
       "    }\n",
       "\n",
       "    .dataframe thead th {\n",
       "        text-align: right;\n",
       "    }\n",
       "</style>\n",
       "<table border=\"1\" class=\"dataframe\">\n",
       "  <thead>\n",
       "    <tr style=\"text-align: right;\">\n",
       "      <th></th>\n",
       "      <th>order_id</th>\n",
       "      <th>product_id</th>\n",
       "    </tr>\n",
       "  </thead>\n",
       "  <tbody>\n",
       "    <tr>\n",
       "      <th>0</th>\n",
       "      <td>2</td>\n",
       "      <td>33120</td>\n",
       "    </tr>\n",
       "    <tr>\n",
       "      <th>1</th>\n",
       "      <td>2</td>\n",
       "      <td>28985</td>\n",
       "    </tr>\n",
       "    <tr>\n",
       "      <th>2</th>\n",
       "      <td>2</td>\n",
       "      <td>9327</td>\n",
       "    </tr>\n",
       "    <tr>\n",
       "      <th>3</th>\n",
       "      <td>2</td>\n",
       "      <td>45918</td>\n",
       "    </tr>\n",
       "    <tr>\n",
       "      <th>4</th>\n",
       "      <td>2</td>\n",
       "      <td>30035</td>\n",
       "    </tr>\n",
       "    <tr>\n",
       "      <th>5</th>\n",
       "      <td>2</td>\n",
       "      <td>17794</td>\n",
       "    </tr>\n",
       "    <tr>\n",
       "      <th>6</th>\n",
       "      <td>2</td>\n",
       "      <td>40141</td>\n",
       "    </tr>\n",
       "    <tr>\n",
       "      <th>7</th>\n",
       "      <td>2</td>\n",
       "      <td>1819</td>\n",
       "    </tr>\n",
       "    <tr>\n",
       "      <th>8</th>\n",
       "      <td>2</td>\n",
       "      <td>43668</td>\n",
       "    </tr>\n",
       "    <tr>\n",
       "      <th>9</th>\n",
       "      <td>3</td>\n",
       "      <td>33754</td>\n",
       "    </tr>\n",
       "    <tr>\n",
       "      <th>10</th>\n",
       "      <td>3</td>\n",
       "      <td>24838</td>\n",
       "    </tr>\n",
       "    <tr>\n",
       "      <th>11</th>\n",
       "      <td>3</td>\n",
       "      <td>17704</td>\n",
       "    </tr>\n",
       "    <tr>\n",
       "      <th>12</th>\n",
       "      <td>3</td>\n",
       "      <td>21903</td>\n",
       "    </tr>\n",
       "    <tr>\n",
       "      <th>13</th>\n",
       "      <td>3</td>\n",
       "      <td>17668</td>\n",
       "    </tr>\n",
       "    <tr>\n",
       "      <th>14</th>\n",
       "      <td>3</td>\n",
       "      <td>46667</td>\n",
       "    </tr>\n",
       "  </tbody>\n",
       "</table>\n",
       "</div>"
      ],
      "text/plain": [
       "    order_id  product_id\n",
       "0          2       33120\n",
       "1          2       28985\n",
       "2          2        9327\n",
       "3          2       45918\n",
       "4          2       30035\n",
       "5          2       17794\n",
       "6          2       40141\n",
       "7          2        1819\n",
       "8          2       43668\n",
       "9          3       33754\n",
       "10         3       24838\n",
       "11         3       17704\n",
       "12         3       21903\n",
       "13         3       17668\n",
       "14         3       46667"
      ]
     },
     "execution_count": 35,
     "metadata": {},
     "output_type": "execute_result"
    }
   ],
   "source": [
    "# Train set\n",
    "train_df = df.copy()\n",
    "data = train_df[['order_id', 'product_id']]\n",
    "data.head(15)"
   ]
  },
  {
   "cell_type": "code",
   "execution_count": 14,
   "metadata": {},
   "outputs": [
    {
     "data": {
      "text/plain": [
       "(33819106, 2)"
      ]
     },
     "execution_count": 14,
     "metadata": {},
     "output_type": "execute_result"
    }
   ],
   "source": [
    "data.shape"
   ]
  },
  {
   "cell_type": "code",
   "execution_count": 34,
   "metadata": {},
   "outputs": [
    {
     "data": {
      "text/html": [
       "<div>\n",
       "<style scoped>\n",
       "    .dataframe tbody tr th:only-of-type {\n",
       "        vertical-align: middle;\n",
       "    }\n",
       "\n",
       "    .dataframe tbody tr th {\n",
       "        vertical-align: top;\n",
       "    }\n",
       "\n",
       "    .dataframe thead th {\n",
       "        text-align: right;\n",
       "    }\n",
       "</style>\n",
       "<table border=\"1\" class=\"dataframe\">\n",
       "  <thead>\n",
       "    <tr style=\"text-align: right;\">\n",
       "      <th></th>\n",
       "      <th>0</th>\n",
       "    </tr>\n",
       "    <tr>\n",
       "      <th>order_id</th>\n",
       "      <th></th>\n",
       "    </tr>\n",
       "  </thead>\n",
       "  <tbody>\n",
       "    <tr>\n",
       "      <th>1</th>\n",
       "      <td>49302,11109,10246,49683,43633,13176,47209,22035</td>\n",
       "    </tr>\n",
       "    <tr>\n",
       "      <th>2</th>\n",
       "      <td>33120,28985,9327,45918,30035,17794,40141,1819,...</td>\n",
       "    </tr>\n",
       "    <tr>\n",
       "      <th>3</th>\n",
       "      <td>33754,24838,17704,21903,17668,46667,17461,32665</td>\n",
       "    </tr>\n",
       "    <tr>\n",
       "      <th>4</th>\n",
       "      <td>46842,26434,39758,27761,10054,21351,22598,3486...</td>\n",
       "    </tr>\n",
       "    <tr>\n",
       "      <th>5</th>\n",
       "      <td>13176,15005,47329,27966,23909,48370,13245,9633...</td>\n",
       "    </tr>\n",
       "    <tr>\n",
       "      <th>6</th>\n",
       "      <td>40462,15873,41897</td>\n",
       "    </tr>\n",
       "    <tr>\n",
       "      <th>7</th>\n",
       "      <td>34050,46802</td>\n",
       "    </tr>\n",
       "    <tr>\n",
       "      <th>8</th>\n",
       "      <td>23423</td>\n",
       "    </tr>\n",
       "    <tr>\n",
       "      <th>9</th>\n",
       "      <td>21405,47890,11182,2014,29193,34203,14992,31506...</td>\n",
       "    </tr>\n",
       "    <tr>\n",
       "      <th>10</th>\n",
       "      <td>24852,4796,31717,47766,4605,1529,21137,22122,3...</td>\n",
       "    </tr>\n",
       "    <tr>\n",
       "      <th>11</th>\n",
       "      <td>30162,27085,5994,1313,31506</td>\n",
       "    </tr>\n",
       "    <tr>\n",
       "      <th>12</th>\n",
       "      <td>30597,15221,43772,37886,37215,34335,3164,26910...</td>\n",
       "    </tr>\n",
       "    <tr>\n",
       "      <th>13</th>\n",
       "      <td>17330,27407,35419,196,44635,26878,25783,41290,...</td>\n",
       "    </tr>\n",
       "    <tr>\n",
       "      <th>14</th>\n",
       "      <td>20392,27845,162,2452,8575,41890,39475,10096,23...</td>\n",
       "    </tr>\n",
       "    <tr>\n",
       "      <th>15</th>\n",
       "      <td>19660,21195,7461,2996,32463</td>\n",
       "    </tr>\n",
       "  </tbody>\n",
       "</table>\n",
       "</div>"
      ],
      "text/plain": [
       "                                                          0\n",
       "order_id                                                   \n",
       "1           49302,11109,10246,49683,43633,13176,47209,22035\n",
       "2         33120,28985,9327,45918,30035,17794,40141,1819,...\n",
       "3           33754,24838,17704,21903,17668,46667,17461,32665\n",
       "4         46842,26434,39758,27761,10054,21351,22598,3486...\n",
       "5         13176,15005,47329,27966,23909,48370,13245,9633...\n",
       "6                                         40462,15873,41897\n",
       "7                                               34050,46802\n",
       "8                                                     23423\n",
       "9         21405,47890,11182,2014,29193,34203,14992,31506...\n",
       "10        24852,4796,31717,47766,4605,1529,21137,22122,3...\n",
       "11                              30162,27085,5994,1313,31506\n",
       "12        30597,15221,43772,37886,37215,34335,3164,26910...\n",
       "13        17330,27407,35419,196,44635,26878,25783,41290,...\n",
       "14        20392,27845,162,2452,8575,41890,39475,10096,23...\n",
       "15                              19660,21195,7461,2996,32463"
      ]
     },
     "execution_count": 34,
     "metadata": {},
     "output_type": "execute_result"
    }
   ],
   "source": [
    "# grouping products based on order_id\n",
    "products_per_order_df = data.groupby('order_id').apply(lambda x: \",\".join(x.product_id.astype(str))).to_frame()\n",
    "products_per_order_df.head(15)"
   ]
  },
  {
   "cell_type": "code",
   "execution_count": 15,
   "metadata": {},
   "outputs": [
    {
     "data": {
      "text/plain": [
       "(3346083, 1)"
      ]
     },
     "execution_count": 15,
     "metadata": {},
     "output_type": "execute_result"
    }
   ],
   "source": [
    "products_per_order_df.shape"
   ]
  },
  {
   "cell_type": "code",
   "execution_count": 16,
   "metadata": {},
   "outputs": [
    {
     "data": {
      "text/plain": [
       "3346083"
      ]
     },
     "execution_count": 16,
     "metadata": {},
     "output_type": "execute_result"
    }
   ],
   "source": [
    "# reformatting the records suitable for input into the apriori model\n",
    "records = [row[0].split(\",\") for idx, row in products_per_order_df.iterrows()]\n",
    "len(records)"
   ]
  },
  {
   "cell_type": "code",
   "execution_count": 62,
   "metadata": {},
   "outputs": [
    {
     "name": "stdout",
     "output_type": "stream",
     "text": [
      "[['49302', '11109', '10246', '49683', '43633', '13176', '47209', '22035'], ['33120', '28985', '9327', '45918', '30035', '17794', '40141', '1819', '43668'], ['33754', '24838', '17704', '21903', '17668', '46667', '17461', '32665'], ['46842', '26434', '39758', '27761', '10054', '21351', '22598', '34862', '40285', '17616', '25146', '32645', '41276'], ['13176', '15005', '47329', '27966', '23909', '48370', '13245', '9633', '27360', '6348', '40878', '6184', '48002', '20914', '37011', '12962', '45698', '24773', '18569', '41176', '48366', '47209', '46522', '38693', '48825', '8479'], ['40462', '15873', '41897'], ['34050', '46802'], ['23423'], ['21405', '47890', '11182', '2014', '29193', '34203', '14992', '31506', '23288', '44533', '18362', '27366', '432', '3990', '14183'], ['24852', '4796', '31717', '47766', '4605', '1529', '21137', '22122', '34134', '27156', '14992', '49235', '26842', '3464', '25720'], ['30162', '27085', '5994', '1313', '31506'], ['30597', '15221', '43772', '37886', '37215', '34335', '3164', '26910', '38888', '38050', '25213', '11175', '23390', '29471', '43511'], ['17330', '27407', '35419', '196', '44635', '26878', '25783', '41290', '33198', '23020', '36086', '3800', '25952'], ['20392', '27845', '162', '2452', '8575', '41890', '39475', '10096', '23032', '20995', '45066'], ['19660', '21195', '7461', '2996', '32463']]\n"
     ]
    }
   ],
   "source": [
    "# print and visualise the input data for the model\n",
    "print(records[:15])"
   ]
  },
  {
   "cell_type": "code",
   "execution_count": 64,
   "metadata": {},
   "outputs": [
    {
     "data": {
      "text/plain": [
       "generator"
      ]
     },
     "execution_count": 64,
     "metadata": {},
     "output_type": "execute_result"
    }
   ],
   "source": [
    "# build the model - min_support value can be decreased for more association rules\n",
    "association_rules = apriori(records, min_support=0.001, min_confidence=0.10, min_lift= 2, min_lenght=2)\n",
    "type(association_rules)"
   ]
  },
  {
   "cell_type": "code",
   "execution_count": 65,
   "metadata": {},
   "outputs": [
    {
     "name": "stdout",
     "output_type": "stream",
     "text": [
      "Length of association rules extracted:\n",
      "884\n"
     ]
    }
   ],
   "source": [
    "# converting the generator into a list\n",
    "association_rules_lst = list(association_rules)\n",
    "\n",
    "print('Length of association rules extracted:')\n",
    "print(len(association_rules_lst))"
   ]
  },
  {
   "cell_type": "code",
   "execution_count": 66,
   "metadata": {},
   "outputs": [
    {
     "name": "stdout",
     "output_type": "stream",
     "text": [
      "\n",
      "Glimpse of few association rules:\n",
      "[RelationRecord(items=frozenset({'10132', '21137'}), support=0.0011631510634972295, ordered_statistics=[OrderedStatistic(items_base=frozenset({'10132'}), items_add=frozenset({'21137'}), confidence=0.20772843723313408, lift=2.5222590870876633)]), RelationRecord(items=frozenset({'21903', '10246'}), support=0.0013965583041424855, ordered_statistics=[OrderedStatistic(items_base=frozenset({'10246'}), items_add=frozenset({'21903'}), confidence=0.18776117004178722, lift=2.4960348786751694)]), RelationRecord(items=frozenset({'22935', '10246'}), support=0.0010953105466899656, ordered_statistics=[OrderedStatistic(items_base=frozenset({'10246'}), items_add=frozenset({'22935'}), confidence=0.14725972356155576, lift=4.185864772792324)]), RelationRecord(items=frozenset({'47209', '10246'}), support=0.0010558614355949928, ordered_statistics=[OrderedStatistic(items_base=frozenset({'10246'}), items_add=frozenset({'47209'}), confidence=0.14195596271295402, lift=2.150502015069244)]), RelationRecord(items=frozenset({'10749', '21137'}), support=0.0037270444277682294, ordered_statistics=[OrderedStatistic(items_base=frozenset({'10749'}), items_add=frozenset({'21137'}), confidence=0.20827348942850465, lift=2.5288771643765595)]), RelationRecord(items=frozenset({'10749', '21903'}), support=0.0030800192344302276, ordered_statistics=[OrderedStatistic(items_base=frozenset({'10749'}), items_add=frozenset({'21903'}), confidence=0.17211663716222986, lift=2.2880616341578657)]), RelationRecord(items=frozenset({'10749', '21938'}), support=0.0021177000092346783, ordered_statistics=[OrderedStatistic(items_base=frozenset({'10749'}), items_add=frozenset({'21938'}), confidence=0.11834062593941014, lift=6.826610751921718), OrderedStatistic(items_base=frozenset({'21938'}), items_add=frozenset({'10749'}), confidence=0.1221618825963279, lift=6.826610751921719)]), RelationRecord(items=frozenset({'22935', '10749'}), support=0.0023666478087961355, ordered_statistics=[OrderedStatistic(items_base=frozenset({'10749'}), items_add=frozenset({'22935'}), confidence=0.13225224623400914, lift=3.7592765030703728)]), RelationRecord(items=frozenset({'24964', '10749'}), support=0.001859487645703947, ordered_statistics=[OrderedStatistic(items_base=frozenset({'10749'}), items_add=frozenset({'24964'}), confidence=0.10391128628210697, lift=3.051676279110126)]), RelationRecord(items=frozenset({'26209', '10749'}), support=0.0020274452247598163, ordered_statistics=[OrderedStatistic(items_base=frozenset({'10749'}), items_add=frozenset({'26209'}), confidence=0.11329703730919538, lift=2.584899021482779)])]\n"
     ]
    }
   ],
   "source": [
    "print('\\nGlimpse of few association rules:')\n",
    "print(association_rules_lst[:10])"
   ]
  },
  {
   "cell_type": "code",
   "execution_count": 30,
   "metadata": {},
   "outputs": [
    {
     "name": "stdout",
     "output_type": "stream",
     "text": [
      "\n",
      "Glimpse of the model output in tabular form:\n",
      "                               LHS                   RHS   Support  \\\n",
      "0  Organic American Cheese Singles  Organic Strawberries  0.001163   \n",
      "1            Organic Celery Hearts  Organic Baby Spinach  0.001397   \n",
      "2            Organic Celery Hearts  Organic Yellow Onion  0.001095   \n",
      "3            Organic Celery Hearts  Organic Hass Avocado  0.001056   \n",
      "4          Organic Red Bell Pepper  Organic Strawberries  0.003727   \n",
      "\n",
      "   Confidence      Lift  \n",
      "0    0.207728  2.522259  \n",
      "1    0.187761  2.496035  \n",
      "2    0.147260  4.185865  \n",
      "3    0.141956  2.150502  \n",
      "4    0.208273  2.528877  \n"
     ]
    }
   ],
   "source": [
    "# Visualising the model output in a tabular form\n",
    "def inspect(output):\n",
    "    lhs         = [tuple(result[2][0][0])[0] if len(tuple(result[2][0][0])) > 0 else \"\" for result in output]\n",
    "    rhs         = [tuple(result[2][0][1])[0] for result in output]\n",
    "    support    = [result[1] for result in output]\n",
    "    confidence = [result[2][0][2] for result in output]\n",
    "    lift       = [result[2][0][3] for result in output]\n",
    "    return list(zip(lhs, rhs, support, confidence, lift))\n",
    "\n",
    "output_DataFrame = pd.DataFrame(inspect(association_rules_lst), columns = ['LHS', 'RHS', 'Support', 'Confidence', 'Lift'])\n",
    "\n",
    "# replacing product_id(s) with their product_name(s)\n",
    "LHS_product_name = []\n",
    "for each_prod_id in output_DataFrame['LHS']:\n",
    "    LHS_product_name.append(products[products.product_id == int(each_prod_id)]['product_name'].item())\n",
    "RHS_product_name = []\n",
    "for each_prod_id in output_DataFrame['RHS']:\n",
    "    RHS_product_name.append(products[products.product_id == int(each_prod_id)]['product_name'].item())\n",
    "output_DataFrame['LHS'] = LHS_product_name\n",
    "output_DataFrame['RHS'] = RHS_product_name\n",
    "\n",
    "print('\\nGlimpse of the model output in tabular form:')\n",
    "print(output_DataFrame.head())"
   ]
  },
  {
   "cell_type": "code",
   "execution_count": 25,
   "metadata": {},
   "outputs": [],
   "source": [
    "# saving the model output\n",
    "output_DataFrame.to_csv(\"recommendations_884_pn.csv\")"
   ]
  },
  {
   "cell_type": "code",
   "execution_count": 27,
   "metadata": {},
   "outputs": [
    {
     "data": {
      "text/html": [
       "<div>\n",
       "<style scoped>\n",
       "    .dataframe tbody tr th:only-of-type {\n",
       "        vertical-align: middle;\n",
       "    }\n",
       "\n",
       "    .dataframe tbody tr th {\n",
       "        vertical-align: top;\n",
       "    }\n",
       "\n",
       "    .dataframe thead th {\n",
       "        text-align: right;\n",
       "    }\n",
       "</style>\n",
       "<table border=\"1\" class=\"dataframe\">\n",
       "  <thead>\n",
       "    <tr style=\"text-align: right;\">\n",
       "      <th></th>\n",
       "      <th>Unnamed: 0</th>\n",
       "      <th>LHS</th>\n",
       "      <th>RHS</th>\n",
       "      <th>Support</th>\n",
       "      <th>Confidence</th>\n",
       "      <th>Lift</th>\n",
       "    </tr>\n",
       "  </thead>\n",
       "  <tbody>\n",
       "    <tr>\n",
       "      <th>0</th>\n",
       "      <td>0</td>\n",
       "      <td>Organic American Cheese Singles</td>\n",
       "      <td>Organic Strawberries</td>\n",
       "      <td>0.001163</td>\n",
       "      <td>0.207728</td>\n",
       "      <td>2.522259</td>\n",
       "    </tr>\n",
       "    <tr>\n",
       "      <th>1</th>\n",
       "      <td>1</td>\n",
       "      <td>Organic Celery Hearts</td>\n",
       "      <td>Organic Baby Spinach</td>\n",
       "      <td>0.001397</td>\n",
       "      <td>0.187761</td>\n",
       "      <td>2.496035</td>\n",
       "    </tr>\n",
       "    <tr>\n",
       "      <th>2</th>\n",
       "      <td>2</td>\n",
       "      <td>Organic Celery Hearts</td>\n",
       "      <td>Organic Yellow Onion</td>\n",
       "      <td>0.001095</td>\n",
       "      <td>0.147260</td>\n",
       "      <td>4.185865</td>\n",
       "    </tr>\n",
       "    <tr>\n",
       "      <th>3</th>\n",
       "      <td>3</td>\n",
       "      <td>Organic Celery Hearts</td>\n",
       "      <td>Organic Hass Avocado</td>\n",
       "      <td>0.001056</td>\n",
       "      <td>0.141956</td>\n",
       "      <td>2.150502</td>\n",
       "    </tr>\n",
       "    <tr>\n",
       "      <th>4</th>\n",
       "      <td>4</td>\n",
       "      <td>Organic Red Bell Pepper</td>\n",
       "      <td>Organic Strawberries</td>\n",
       "      <td>0.003727</td>\n",
       "      <td>0.208273</td>\n",
       "      <td>2.528877</td>\n",
       "    </tr>\n",
       "    <tr>\n",
       "      <th>5</th>\n",
       "      <td>5</td>\n",
       "      <td>Organic Red Bell Pepper</td>\n",
       "      <td>Organic Baby Spinach</td>\n",
       "      <td>0.003080</td>\n",
       "      <td>0.172117</td>\n",
       "      <td>2.288062</td>\n",
       "    </tr>\n",
       "    <tr>\n",
       "      <th>6</th>\n",
       "      <td>6</td>\n",
       "      <td>Organic Red Bell Pepper</td>\n",
       "      <td>Green Bell Pepper</td>\n",
       "      <td>0.002118</td>\n",
       "      <td>0.118341</td>\n",
       "      <td>6.826611</td>\n",
       "    </tr>\n",
       "    <tr>\n",
       "      <th>7</th>\n",
       "      <td>7</td>\n",
       "      <td>Organic Red Bell Pepper</td>\n",
       "      <td>Organic Yellow Onion</td>\n",
       "      <td>0.002367</td>\n",
       "      <td>0.132252</td>\n",
       "      <td>3.759277</td>\n",
       "    </tr>\n",
       "    <tr>\n",
       "      <th>8</th>\n",
       "      <td>8</td>\n",
       "      <td>Organic Red Bell Pepper</td>\n",
       "      <td>Organic Garlic</td>\n",
       "      <td>0.001859</td>\n",
       "      <td>0.103911</td>\n",
       "      <td>3.051676</td>\n",
       "    </tr>\n",
       "    <tr>\n",
       "      <th>9</th>\n",
       "      <td>9</td>\n",
       "      <td>Organic Red Bell Pepper</td>\n",
       "      <td>Limes</td>\n",
       "      <td>0.002027</td>\n",
       "      <td>0.113297</td>\n",
       "      <td>2.584899</td>\n",
       "    </tr>\n",
       "  </tbody>\n",
       "</table>\n",
       "</div>"
      ],
      "text/plain": [
       "   Unnamed: 0                              LHS                   RHS  \\\n",
       "0           0  Organic American Cheese Singles  Organic Strawberries   \n",
       "1           1            Organic Celery Hearts  Organic Baby Spinach   \n",
       "2           2            Organic Celery Hearts  Organic Yellow Onion   \n",
       "3           3            Organic Celery Hearts  Organic Hass Avocado   \n",
       "4           4          Organic Red Bell Pepper  Organic Strawberries   \n",
       "5           5          Organic Red Bell Pepper  Organic Baby Spinach   \n",
       "6           6          Organic Red Bell Pepper     Green Bell Pepper   \n",
       "7           7          Organic Red Bell Pepper  Organic Yellow Onion   \n",
       "8           8          Organic Red Bell Pepper        Organic Garlic   \n",
       "9           9          Organic Red Bell Pepper                 Limes   \n",
       "\n",
       "    Support  Confidence      Lift  \n",
       "0  0.001163    0.207728  2.522259  \n",
       "1  0.001397    0.187761  2.496035  \n",
       "2  0.001095    0.147260  4.185865  \n",
       "3  0.001056    0.141956  2.150502  \n",
       "4  0.003727    0.208273  2.528877  \n",
       "5  0.003080    0.172117  2.288062  \n",
       "6  0.002118    0.118341  6.826611  \n",
       "7  0.002367    0.132252  3.759277  \n",
       "8  0.001859    0.103911  3.051676  \n",
       "9  0.002027    0.113297  2.584899  "
      ]
     },
     "execution_count": 27,
     "metadata": {},
     "output_type": "execute_result"
    }
   ],
   "source": [
    "# reading the association rules from the saved model output\n",
    "recommendation_engine = pd.read_csv(\"recommendations_884_pn.csv\")\n",
    "recommendation_engine.head(10)"
   ]
  },
  {
   "cell_type": "code",
   "execution_count": 31,
   "metadata": {},
   "outputs": [],
   "source": [
    "# validate data\n",
    "def recommendations_by_product_name(product_name : str):\n",
    "    \"\"\" Function to return recommendations based on input product id \"\"\"\n",
    "    if product_name not in recommendation_engine.LHS.unique():\n",
    "        return \"Sorry no recommendations\"\n",
    "    else:\n",
    "        return list(set(recommendation_engine[recommendation_engine.LHS == product_name]['RHS'].tolist()))"
   ]
  },
  {
   "cell_type": "code",
   "execution_count": 32,
   "metadata": {},
   "outputs": [
    {
     "name": "stdout",
     "output_type": "stream",
     "text": [
      "\n",
      "Product recommendations on selecting product -  Limes\n"
     ]
    },
    {
     "data": {
      "text/plain": [
       "['Cucumber Kirby',\n",
       " 'Organic Avocado',\n",
       " 'Organic Hass Avocado',\n",
       " 'Large Lemon',\n",
       " 'Organic Cilantro',\n",
       " 'Organic Lemon']"
      ]
     },
     "execution_count": 32,
     "metadata": {},
     "output_type": "execute_result"
    }
   ],
   "source": [
    "# Experiment 1 - get recommendation for a selected product\n",
    "selected_product = 'Limes'\n",
    "print('\\nProduct recommendations on selecting product - ', selected_product)\n",
    "recommendations_by_product_name(selected_product)"
   ]
  },
  {
   "cell_type": "code",
   "execution_count": 33,
   "metadata": {},
   "outputs": [
    {
     "name": "stdout",
     "output_type": "stream",
     "text": [
      "\n",
      "Product recommendations on selecting product -  Organic Red Bell Pepper\n"
     ]
    },
    {
     "data": {
      "text/plain": [
       "['Organic Baby Spinach',\n",
       " 'Organic Cucumber',\n",
       " 'Green Bell Pepper',\n",
       " 'Organic Strawberries',\n",
       " 'Organic Yellow Onion',\n",
       " 'Organic Garlic',\n",
       " 'Organic Avocado',\n",
       " 'Organic Bell Pepper',\n",
       " 'Organic Hass Avocado',\n",
       " 'Organic Raspberries',\n",
       " 'Limes',\n",
       " 'Organic Zucchini']"
      ]
     },
     "execution_count": 33,
     "metadata": {},
     "output_type": "execute_result"
    }
   ],
   "source": [
    "# Experiment 2 - get recommendation for a selected product\n",
    "selected_product = 'Organic Red Bell Pepper'\n",
    "print('\\nProduct recommendations on selecting product - ', selected_product)\n",
    "recommendations_by_product_name(selected_product)"
   ]
  },
  {
   "cell_type": "code",
   "execution_count": 56,
   "metadata": {},
   "outputs": [
    {
     "name": "stdout",
     "output_type": "stream",
     "text": [
      "\n",
      "Product recommendations on selecting product -  Peach Pear Flavored Sparkling Water\n"
     ]
    },
    {
     "data": {
      "text/plain": [
       "['Lime Sparkling Water', 'Sparkling Water Grapefruit', 'Sparkling Lemon Water']"
      ]
     },
     "execution_count": 56,
     "metadata": {},
     "output_type": "execute_result"
    }
   ],
   "source": [
    "# Experiment 3 - get recommendation for a selected product\n",
    "selected_product = 'Peach Pear Flavored Sparkling Water'\n",
    "print('\\nProduct recommendations on selecting product - ', selected_product)\n",
    "recommendations_by_product_name(selected_product)"
   ]
  }
 ],
 "metadata": {
  "colab": {
   "name": "Instacart_capstone_04072022.ipynb",
   "provenance": []
  },
  "kernelspec": {
   "display_name": "Python 3 (ipykernel)",
   "language": "python",
   "name": "python3"
  },
  "language_info": {
   "codemirror_mode": {
    "name": "ipython",
    "version": 3
   },
   "file_extension": ".py",
   "mimetype": "text/x-python",
   "name": "python",
   "nbconvert_exporter": "python",
   "pygments_lexer": "ipython3",
   "version": "3.9.7"
  }
 },
 "nbformat": 4,
 "nbformat_minor": 1
}
